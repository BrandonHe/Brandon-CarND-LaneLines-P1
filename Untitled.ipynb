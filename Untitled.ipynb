{
 "cells": [
  {
   "cell_type": "code",
   "execution_count": 7,
   "metadata": {
    "collapsed": false
   },
   "outputs": [
    {
     "name": "stdout",
     "output_type": "stream",
     "text": [
      "[(1, 2), (2, 3), (5, 6)]\n",
      "[(3, 4), (3, 4)]\n"
     ]
    }
   ],
   "source": [
    "slopes = [1, 2, -1, -2, 3]\n",
    "lines = [(1,2), (2, 3), (3, 4), (3, 4), (5, 6)]\n",
    "left = []\n",
    "right = []\n",
    "for i, slope in enumerate(slopes):\n",
    "#for i in range(len(lines)):\n",
    "    #print(i, slope, lines[i])\n",
    "    if slope > 0:\n",
    "        left.append(lines[i])\n",
    "    else:\n",
    "        right.append(lines[i])\n",
    "print(left)\n",
    "print(right)"
   ]
  },
  {
   "cell_type": "code",
   "execution_count": null,
   "metadata": {
    "collapsed": true
   },
   "outputs": [],
   "source": []
  }
 ],
 "metadata": {
  "kernelspec": {
   "display_name": "Python 3",
   "language": "python",
   "name": "python3"
  },
  "language_info": {
   "codemirror_mode": {
    "name": "ipython",
    "version": 3
   },
   "file_extension": ".py",
   "mimetype": "text/x-python",
   "name": "python",
   "nbconvert_exporter": "python",
   "pygments_lexer": "ipython3",
   "version": "3.5.2"
  },
  "widgets": {
   "state": {},
   "version": "1.1.2"
  }
 },
 "nbformat": 4,
 "nbformat_minor": 2
}
